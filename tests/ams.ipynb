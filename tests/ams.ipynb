{
 "cells": [
  {
   "cell_type": "code",
   "execution_count": 3,
   "metadata": {},
   "outputs": [
    {
     "name": "stdout",
     "output_type": "stream",
     "text": [
      "Dernière Sauvegarde : il y a 2 minutes (auto-sauvegardé)\n"
     ]
    }
   ],
   "source": [
    "a= Tk().clipboard_get()\n",
    "print (a)"
   ]
  },
  {
   "cell_type": "code",
   "execution_count": 23,
   "metadata": {},
   "outputs": [
    {
     "name": "stdout",
     "output_type": "stream",
     "text": [
      "['Ahmed', 'Benarab', 'is the great ']\n",
      "5\n"
     ]
    }
   ],
   "source": [
    "listl=\"\"\"\n",
    "Ahmed\n",
    "Benarab\n",
    "is the great \n",
    "\"\"\"\n",
    "listl1=listl.split('\\n')\n",
    "for i in range(len(listl1)-1) :\n",
    "    if len(listl1[i])==0:\n",
    "        listl1.pop(i)\n",
    "    else:\n",
    "        pass\n",
    "print(listl1)\n",
    "print(len(listl1[0]))"
   ]
  },
  {
   "cell_type": "code",
   "execution_count": null,
   "metadata": {},
   "outputs": [],
   "source": [
    "import keyboard\n",
    "input()\n",
    "keyboard.add_hotkey('a, b', lambda: keyboard.write('foobar'))"
   ]
  },
  {
   "cell_type": "code",
   "execution_count": 21,
   "metadata": {},
   "outputs": [
    {
     "name": "stdout",
     "output_type": "stream",
     "text": [
      "['azaza', 'edef']\n"
     ]
    }
   ],
   "source": [
    "rt=['azaz','azaza','edef']\n",
    "rt.pop(0)\n",
    "print(rt)"
   ]
  },
  {
   "cell_type": "code",
   "execution_count": null,
   "metadata": {},
   "outputs": [],
   "source": [
    "jfdskdj"
   ]
  },
  {
   "cell_type": "code",
   "execution_count": 3,
   "metadata": {},
   "outputs": [],
   "source": [
    "import keyboard\n",
    "if keyboard.is_pressed('ctrl+shift'):\n",
    "    keyboard.press_and_release('ctrl+v')\n",
    "    \n",
    "else :\n",
    "    pass"
   ]
  },
  {
   "cell_type": "code",
   "execution_count": null,
   "metadata": {},
   "outputs": [],
   "source": [
    "aartyu"
   ]
  },
  {
   "cell_type": "code",
   "execution_count": null,
   "metadata": {},
   "outputs": [],
   "source": [
    "import time\n",
    "import keyboard\n",
    "from tkinter import Tk\n",
    "\n",
    "\n",
    "\n",
    "\n",
    "#the paste function \n",
    "\n",
    "\n",
    "def prp():\n",
    "    time.sleep(1)\n",
    "    # take the data from the klipboard\n",
    "    clp_data= Tk().clipboard_get()\n",
    "\n",
    "\n",
    "    #reorganize the data in a list\n",
    "    list1=clp_data.split('\\n')\n",
    "\n",
    "    for i in range(len(list1)-1) :\n",
    "        if len(list1[i])==0:\n",
    "            list1.pop(i)\n",
    "        else:\n",
    "            pass\n",
    "    list1.insert(1, '')\n",
    "    list1.insert(2, '2')\n",
    "    \n",
    "    for i in list1 :\n",
    "        keyboard.write(i)\n",
    "        keyboard.press_and_release('tab')\n",
    "while True :\n",
    "    keyboard.add_hotkey('alt+ctrl', lambda : prp())"
   ]
  },
  {
   "cell_type": "code",
   "execution_count": 8,
   "metadata": {
    "scrolled": true
   },
   "outputs": [],
   "source": [
    "import time ,keyboard\n",
    "from tkinter import Tk\n",
    "\n",
    "    \n",
    "#list1 = []\n",
    "\n",
    "def refrech() :\n",
    "    # take the data from the clipboard\n",
    "    clp_data= Tk().clipboard_get()\n",
    "    \n",
    "    #reorganize the data in a list\n",
    "    list1=clp_data.split('\\n')\n",
    "\n",
    "    for i in range(len(list1)-1) :\n",
    "        if len(list1[i])==0:\n",
    "            list1.pop(i)\n",
    "        else:\n",
    "            pass\n",
    "    list1.insert(1, '')\n",
    "    list1.insert(2, '2')\n",
    "def prp():\n",
    "    refrech()\n",
    "    for i in list1 :        \n",
    "        keyboard.write(i)\n",
    "        keyboard.press_and_release('tab') \n",
    "\n",
    "while keyboard.is_pressed('ctrl+Shift') :        \n",
    "    keyboard.add_hotkey('ctrl+Shift', lambda : prp())\n",
    "    time.sleep(0.1)\n",
    "    print(\"ezez\")\n",
    "\n",
    "\n",
    "\n",
    "\n",
    "\n",
    "\n",
    "    "
   ]
  },
  {
   "cell_type": "code",
   "execution_count": 2,
   "metadata": {},
   "outputs": [
    {
     "name": "stdout",
     "output_type": "stream",
     "text": [
      "[9856, 1, 2, 5]\n"
     ]
    }
   ],
   "source": [
    "er = [1,2,5]\n",
    "er.insert(0,9856)\n",
    "print(er)2"
   ]
  },
  {
   "cell_type": "code",
   "execution_count": 2,
   "metadata": {},
   "outputs": [],
   "source": [
    "import time , keyboard \n",
    "while keyboard.is_pressed('space'):\n",
    "    print('1')\n",
    "    \n"
   ]
  },
  {
   "cell_type": "code",
   "execution_count": 12,
   "metadata": {},
   "outputs": [],
   "source": [
    "import keyboard\n",
    "while keyboard.is_pressed(\"space\") == True:\n",
    "    print (\"f*ck\")"
   ]
  }
 ],
 "metadata": {
  "kernelspec": {
   "display_name": "Python 3",
   "language": "python",
   "name": "python3"
  },
  "language_info": {
   "codemirror_mode": {
    "name": "ipython",
    "version": 3
   },
   "file_extension": ".py",
   "mimetype": "text/x-python",
   "name": "python",
   "nbconvert_exporter": "python",
   "pygments_lexer": "ipython3",
   "version": "3.7.1"
  }
 },
 "nbformat": 4,
 "nbformat_minor": 2
}
