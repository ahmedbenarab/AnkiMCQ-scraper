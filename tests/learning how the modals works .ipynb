{
 "cells": [
  {
   "cell_type": "markdown",
   "metadata": {},
   "source": [
    "#Wheneever i press ctrl + h it will print **fooba**"
   ]
  },
  {
   "cell_type": "code",
   "execution_count": 1,
   "metadata": {},
   "outputs": [
    {
     "data": {
      "text/plain": [
       "<function keyboard.add_hotkey.<locals>.remove_()>"
      ]
     },
     "execution_count": 1,
     "metadata": {},
     "output_type": "execute_result"
    }
   ],
   "source": [
    "import keyboard\n",
    "keyboard.add_hotkey('ctrl+h', lambda: keyboard.write('foobar'))"
   ]
  },
  {
   "cell_type": "code",
   "execution_count": 1,
   "metadata": {},
   "outputs": [
    {
     "data": {
      "text/plain": [
       "<function keyboard.add_hotkey.<locals>.remove_()>"
      ]
     },
     "execution_count": 1,
     "metadata": {},
     "output_type": "execute_result"
    }
   ],
   "source": [
    "from tkinter import Tk\n",
    "import keyboard\n",
    "import time\n",
    "def no_things():\n",
    "    pass \n",
    "def printos():\n",
    "    \n",
    "    clp_data= Tk().clipboard_get()\n",
    "    list1=clp_data.split('\\n')\n",
    "\n",
    "    for i in range(len(list1)-1) :\n",
    "        if len(list1[i])==0:\n",
    "            list1.pop(i)\n",
    "        else:\n",
    "            pass\n",
    "    list1.insert(1, '')\n",
    "    list1.insert(2, '2')\n",
    "    for i in list1 :        \n",
    "        keyboard.write(i)\n",
    "        keyboard.press_and_release('tab',do_press=True, do_release=True)\n",
    "    no_things()\n",
    "    time.sleep(0.25)\n",
    "keyboard.add_hotkey('ctrl+p', lambda: printos())"
   ]
  }
 ],
 "metadata": {
  "kernelspec": {
   "display_name": "Python 3",
   "language": "python",
   "name": "python3"
  },
  "language_info": {
   "codemirror_mode": {
    "name": "ipython",
    "version": 3
   },
   "file_extension": ".py",
   "mimetype": "text/x-python",
   "name": "python",
   "nbconvert_exporter": "python",
   "pygments_lexer": "ipython3",
   "version": "3.7.1"
  }
 },
 "nbformat": 4,
 "nbformat_minor": 2
}
